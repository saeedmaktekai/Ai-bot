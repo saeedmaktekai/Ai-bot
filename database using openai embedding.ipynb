{
 "cells": [
  {
   "cell_type": "code",
   "execution_count": 1,
   "metadata": {},
   "outputs": [],
   "source": [
    "#import all required libraries \n",
    "from langchain_chroma import Chroma\n",
    "from langchain_community.document_loaders import PyPDFDirectoryLoader\n",
    "from dotenv import load_dotenv\n",
    "\n",
    "\n",
    "#for splitting text into chunk \n",
    "from langchain_text_splitters import CharacterTextSplitter"
   ]
  },
  {
   "cell_type": "code",
   "execution_count": 2,
   "metadata": {},
   "outputs": [
    {
     "data": {
      "text/plain": [
       "True"
      ]
     },
     "execution_count": 2,
     "metadata": {},
     "output_type": "execute_result"
    }
   ],
   "source": [
    "load_dotenv()"
   ]
  },
  {
   "cell_type": "code",
   "execution_count": 3,
   "metadata": {},
   "outputs": [],
   "source": [
    "# load the document and split it into chunks\n",
    "loader = PyPDFDirectoryLoader(\"/Users/saeedanwar/Desktop/Ai-bot/data/\")\n",
    "documents = loader.load()"
   ]
  },
  {
   "cell_type": "code",
   "execution_count": 4,
   "metadata": {},
   "outputs": [
    {
     "data": {
      "text/plain": [
       "list"
      ]
     },
     "execution_count": 4,
     "metadata": {},
     "output_type": "execute_result"
    }
   ],
   "source": [
    "type(documents)\n",
    "# print(documents)"
   ]
  },
  {
   "cell_type": "code",
   "execution_count": 5,
   "metadata": {},
   "outputs": [],
   "source": [
    "# split it into chunks\n",
    "text_splitter = CharacterTextSplitter(chunk_size=1000, chunk_overlap=0)\n",
    "docs = text_splitter.split_documents(documents)\n"
   ]
  },
  {
   "cell_type": "code",
   "execution_count": 6,
   "metadata": {},
   "outputs": [
    {
     "data": {
      "text/plain": [
       "'sk-proj-1oXNQMjUHGDrCY2KTr6UT3BlbkFJy36JREPPGwZuSdgAUcVP'"
      ]
     },
     "execution_count": 6,
     "metadata": {},
     "output_type": "execute_result"
    }
   ],
   "source": [
    "from langchain_openai import OpenAIEmbeddings\n",
    "import os\n",
    "os.getenv(\"OPENAI_API_KEY\")\n",
    "# os.environ[\"OPENAI_API_KEY\"] = OPENAI_API_KEY\n",
    "# create the open-source embedding function\n",
    "# embedding_function = SentenceTransformerEmbeddings(model_name=\"all-MiniLM-L6-v2\")\n"
   ]
  },
  {
   "cell_type": "code",
   "execution_count": 7,
   "metadata": {},
   "outputs": [
    {
     "name": "stderr",
     "output_type": "stream",
     "text": [
      "Number of requested results 4 is greater than number of elements in index 1, updating n_results = 1\n"
     ]
    },
    {
     "name": "stdout",
     "output_type": "stream",
     "text": [
      "5 8 6 6 8 8 B 5 \u0000 0 0 0 5  ·  A E D 2 , 1 0 0 . 0 0  d u e  J u l y  2 8 ,  2 0 2 4 P a g e  1  o f  1I n v o i c e\n",
      "I n v o i c e  n u m b e r 5 8 6 6 8 8 B 5 \u0000 0 0 0 5\n",
      "D a t e  o f  i s s u e J u n e  2 8 ,  2 0 2 4\n",
      "D a t e  d u e J u l y  2 8 ,  2 0 2 4\n",
      "I N N O V A T I O N  M A K T E K  F O R  A I  A P P L I C A T I O N S\n",
      "A N D  S E R V I C E S\n",
      "\u0000 9 7 1  5 0  3 5 0  1 1 1 4B i l l  t o\n",
      "C o l i n\n",
      "c o l i n @ c h a r t f i . i o\n",
      "A E D 2 , 1 0 0 . 0 0  d u e  J u l y  2 8 ,  2 0 2 4\n",
      "P a y  o n l i n e\n",
      "D e s c r i p t i o n Q t y U n i t  p r i c e A m o u n t\n",
      "M A Y  t o t a l  1 2  d a y s  o f  w o r k  \u0000 8 4  h o u r s ) 1 A E D 2 , 1 0 0 . 0 0 A E D 2 , 1 0 0 . 0 0\n",
      " \n",
      "S u b t o t a l A E D 2 , 1 0 0 . 0 0\n",
      "T o t a l A E D 2 , 1 0 0 . 0 0\n",
      "A m o u n t  d u e A E D 2 , 1 0 0 . 0 0\n"
     ]
    }
   ],
   "source": [
    "import chromadb\n",
    "embeddings = OpenAIEmbeddings()\n",
    "new_client = chromadb.EphemeralClient()\n",
    "openai_lc_client = Chroma.from_documents(\n",
    "    docs, embeddings, client=new_client, collection_name=\"openai_collection\"\n",
    ")\n",
    "\n",
    "query = \"summary\"\n",
    "docs = openai_lc_client.similarity_search(query)\n",
    "print(docs[0].page_content)"
   ]
  },
  {
   "cell_type": "code",
   "execution_count": 8,
   "metadata": {},
   "outputs": [],
   "source": [
    "# load it into Chroma\n",
    "db = Chroma.from_documents(docs, embeddings)"
   ]
  },
  {
   "cell_type": "code",
   "execution_count": 10,
   "metadata": {},
   "outputs": [
    {
     "name": "stderr",
     "output_type": "stream",
     "text": [
      "Number of requested results 4 is greater than number of elements in index 1, updating n_results = 1\n"
     ]
    }
   ],
   "source": [
    "# query it\n",
    "query = \"marjan\"\n",
    "docs = db.similarity_search(query)\n",
    "\n",
    "# print results\n",
    "# print(docs[2].page_content)"
   ]
  },
  {
   "cell_type": "code",
   "execution_count": 11,
   "metadata": {},
   "outputs": [
    {
     "name": "stderr",
     "output_type": "stream",
     "text": [
      "Number of requested results 4 is greater than number of elements in index 1, updating n_results = 1\n"
     ]
    }
   ],
   "source": [
    "# save to disk\n",
    "db2 = Chroma.from_documents(docs, embeddings, persist_directory=\"./chroma_db_openai\")\n",
    "docs = db2.similarity_search(query)\n"
   ]
  },
  {
   "cell_type": "code",
   "execution_count": 12,
   "metadata": {},
   "outputs": [
    {
     "data": {
      "text/plain": [
       "[Document(page_content='5 8 6 6 8 8 B 5 \\x00 0 0 0 5  ·  A E D 2 , 1 0 0 . 0 0  d u e  J u l y  2 8 ,  2 0 2 4 P a g e  1  o f  1I n v o i c e\\nI n v o i c e  n u m b e r 5 8 6 6 8 8 B 5 \\x00 0 0 0 5\\nD a t e  o f  i s s u e J u n e  2 8 ,  2 0 2 4\\nD a t e  d u e J u l y  2 8 ,  2 0 2 4\\nI N N O V A T I O N  M A K T E K  F O R  A I  A P P L I C A T I O N S\\nA N D  S E R V I C E S\\n\\x00 9 7 1  5 0  3 5 0  1 1 1 4B i l l  t o\\nC o l i n\\nc o l i n @ c h a r t f i . i o\\nA E D 2 , 1 0 0 . 0 0  d u e  J u l y  2 8 ,  2 0 2 4\\nP a y  o n l i n e\\nD e s c r i p t i o n Q t y U n i t  p r i c e A m o u n t\\nM A Y  t o t a l  1 2  d a y s  o f  w o r k  \\x00 8 4  h o u r s ) 1 A E D 2 , 1 0 0 . 0 0 A E D 2 , 1 0 0 . 0 0\\n\\xa0\\nS u b t o t a l A E D 2 , 1 0 0 . 0 0\\nT o t a l A E D 2 , 1 0 0 . 0 0\\nA m o u n t  d u e A E D 2 , 1 0 0 . 0 0', metadata={'page': 0, 'source': '/Users/saeedanwar/Desktop/Ai-bot/data/Invoice-586688B5-0005.pdf'})]"
      ]
     },
     "execution_count": 12,
     "metadata": {},
     "output_type": "execute_result"
    }
   ],
   "source": [
    "docs"
   ]
  },
  {
   "cell_type": "code",
   "execution_count": 13,
   "metadata": {},
   "outputs": [
    {
     "ename": "NameError",
     "evalue": "name 'embedding_function' is not defined",
     "output_type": "error",
     "traceback": [
      "\u001b[0;31m---------------------------------------------------------------------------\u001b[0m",
      "\u001b[0;31mNameError\u001b[0m                                 Traceback (most recent call last)",
      "Cell \u001b[0;32mIn[13], line 2\u001b[0m\n\u001b[1;32m      1\u001b[0m \u001b[38;5;66;03m# load from disk\u001b[39;00m\n\u001b[0;32m----> 2\u001b[0m db3 \u001b[38;5;241m=\u001b[39m Chroma(persist_directory\u001b[38;5;241m=\u001b[39m\u001b[38;5;124m\"\u001b[39m\u001b[38;5;124m./chroma_db_openai\u001b[39m\u001b[38;5;124m\"\u001b[39m, embedding_function\u001b[38;5;241m=\u001b[39m\u001b[43membedding_function\u001b[49m)\n",
      "\u001b[0;31mNameError\u001b[0m: name 'embedding_function' is not defined"
     ]
    }
   ],
   "source": [
    "# load from disk\n",
    "db3 = Chroma(persist_directory=\"./chroma_db_openai\", embedding_function=embedding_function)\n"
   ]
  },
  {
   "cell_type": "code",
   "execution_count": 63,
   "metadata": {},
   "outputs": [
    {
     "name": "stderr",
     "output_type": "stream",
     "text": [
      "Number of requested results 4 is greater than number of elements in index 2, updating n_results = 2\n"
     ]
    },
    {
     "name": "stdout",
     "output_type": "stream",
     "text": [
      "Frenchy De Dubai Progress Report  \n",
      "Website  \n",
      "• Home page  (Done)  \n",
      "• Login, signup modals (Done)  \n",
      "• Verification of email while registering.  (In Queue)  \n",
      "• Our story Page (Done)  \n",
      "• Restaurant page  (Done)  \n",
      "• Restaurant internal page  (In Queue)  \n",
      "• Blogs designs (Not confirm from client yet)  \n",
      "• Blogs internal page  (In Queue)  \n",
      "• Reservation date picker  (In Queue)  \n",
      "• Reservation modals  (In Queue)  \n",
      "• Reservation Cancellation  (In Queue)  \n",
      "• Contact us Page  (Done)  \n",
      "• Privacy policy page  (In Queue)  \n",
      "• 404 Page  (In Queue)  \n",
      " \n",
      "Admin Panel  \n",
      "• Dashboard Analytics (Not yet design ed) \n",
      "• Add Restaurant  (Done)  \n",
      "• List of Restaurants, Edit and Delete  (Done)  \n",
      "• Reviews of Restaurant  (Done)  \n",
      "• Table Reservations  (In Queue)  \n",
      "• Restaurant category  (Done)  \n",
      "• Add Events  (In Queue)  \n",
      "• Listing Events, Edit and Delete  (In Queue)  \n",
      "• Add Blogs  (In Queue)  \n",
      "• Listing Blogs, Edit and Delete  (In Queue)  \n",
      "• Leeds Managements -  Login profiles, Queries and subscribers  (In Queue)  \n",
      "• Logout in side menu  (In Queue)  \n",
      "• Notification (In future)  \n",
      "• Login ( In Queue)  \n",
      "Backend  \n",
      "• Home page  (Done)  \n",
      "• Login, signup modals  (Done)  \n",
      "• Verification of email while registering.   (In Queue)  \n",
      "• Restaurant page  (Done)  \n",
      "• Restaurant internal page  (Done)\n"
     ]
    }
   ],
   "source": [
    "docs = db3.similarity_search(query)\n",
    "print(docs[0].page_content)"
   ]
  },
  {
   "cell_type": "code",
   "execution_count": 27,
   "metadata": {},
   "outputs": [
    {
     "data": {
      "text/plain": [
       "langchain_chroma.vectorstores.Chroma"
      ]
     },
     "execution_count": 27,
     "metadata": {},
     "output_type": "execute_result"
    }
   ],
   "source": [
    "type(db3)"
   ]
  },
  {
   "cell_type": "code",
   "execution_count": 28,
   "metadata": {},
   "outputs": [
    {
     "data": {
      "text/plain": [
       "list"
      ]
     },
     "execution_count": 28,
     "metadata": {},
     "output_type": "execute_result"
    }
   ],
   "source": [
    "type(docs)"
   ]
  },
  {
   "cell_type": "code",
   "execution_count": 62,
   "metadata": {},
   "outputs": [
    {
     "data": {
      "text/plain": [
       "'sk-proj-cBhf3xJBL4MOohmLxVC4T3BlbkFJJVjAjendJCbR7DZTb7p2'"
      ]
     },
     "execution_count": 62,
     "metadata": {},
     "output_type": "execute_result"
    }
   ],
   "source": [
    "#import all required libraries \n",
    "from langchain_chroma import Chroma\n",
    "from langchain_community.document_loaders import PyPDFDirectoryLoader\n",
    "from dotenv import load_dotenv\n",
    "#for splitting text into chunk \n",
    "from langchain_text_splitters import CharacterTextSplitter\n",
    "#load openai embeddings because we are not using local embeddings\n",
    "from langchain_openai import OpenAIEmbeddings\n",
    "#get an environment variable \n",
    "import os\n",
    "import chromadb\n",
    "os.getenv(\"OPENAI_API_KEY\")"
   ]
  },
  {
   "cell_type": "code",
   "execution_count": null,
   "metadata": {},
   "outputs": [],
   "source": []
  }
 ],
 "metadata": {
  "kernelspec": {
   "display_name": "venv",
   "language": "python",
   "name": "python3"
  },
  "language_info": {
   "codemirror_mode": {
    "name": "ipython",
    "version": 3
   },
   "file_extension": ".py",
   "mimetype": "text/x-python",
   "name": "python",
   "nbconvert_exporter": "python",
   "pygments_lexer": "ipython3",
   "version": "3.12.3"
  }
 },
 "nbformat": 4,
 "nbformat_minor": 2
}
