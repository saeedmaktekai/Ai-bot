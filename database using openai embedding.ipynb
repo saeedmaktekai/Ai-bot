{
 "cells": [
  {
   "cell_type": "code",
   "execution_count": 50,
   "metadata": {},
   "outputs": [],
   "source": [
    "#import all required libraries \n",
    "from langchain_chroma import Chroma\n",
    "from langchain_community.document_loaders import PyPDFDirectoryLoader\n",
    "from dotenv import load_dotenv\n",
    "\n",
    "\n",
    "#for splitting text into chunk \n",
    "from langchain_text_splitters import CharacterTextSplitter"
   ]
  },
  {
   "cell_type": "code",
   "execution_count": 43,
   "metadata": {},
   "outputs": [
    {
     "data": {
      "text/plain": [
       "True"
      ]
     },
     "execution_count": 43,
     "metadata": {},
     "output_type": "execute_result"
    }
   ],
   "source": [
    "load_dotenv()"
   ]
  },
  {
   "cell_type": "code",
   "execution_count": 51,
   "metadata": {},
   "outputs": [],
   "source": [
    "# load the document and split it into chunks\n",
    "loader = PyPDFDirectoryLoader(\"/Users/saeedanwar/Desktop/Ai-bot/data/\")\n",
    "documents = loader.load()"
   ]
  },
  {
   "cell_type": "code",
   "execution_count": 54,
   "metadata": {},
   "outputs": [
    {
     "data": {
      "text/plain": [
       "list"
      ]
     },
     "execution_count": 54,
     "metadata": {},
     "output_type": "execute_result"
    }
   ],
   "source": [
    "type(documents)\n",
    "# print(documents)"
   ]
  },
  {
   "cell_type": "code",
   "execution_count": 55,
   "metadata": {},
   "outputs": [],
   "source": [
    "# split it into chunks\n",
    "text_splitter = CharacterTextSplitter(chunk_size=1000, chunk_overlap=0)\n",
    "docs = text_splitter.split_documents(documents)\n"
   ]
  },
  {
   "cell_type": "code",
   "execution_count": 56,
   "metadata": {},
   "outputs": [
    {
     "data": {
      "text/plain": [
       "'sk-proj-cBhf3xJBL4MOohmLxVC4T3BlbkFJJVjAjendJCbR7DZTb7p2'"
      ]
     },
     "execution_count": 56,
     "metadata": {},
     "output_type": "execute_result"
    }
   ],
   "source": [
    "from langchain_openai import OpenAIEmbeddings\n",
    "import os\n",
    "os.getenv(\"OPENAI_API_KEY\")\n",
    "# os.environ[\"OPENAI_API_KEY\"] = OPENAI_API_KEY\n",
    "# create the open-source embedding function\n",
    "# embedding_function = SentenceTransformerEmbeddings(model_name=\"all-MiniLM-L6-v2\")\n"
   ]
  },
  {
   "cell_type": "code",
   "execution_count": 57,
   "metadata": {},
   "outputs": [
    {
     "name": "stdout",
     "output_type": "stream",
     "text": [
      "1 \n",
      " \n",
      "Written by Marjan Faiz\n"
     ]
    }
   ],
   "source": [
    "import chromadb\n",
    "embeddings = OpenAIEmbeddings()\n",
    "new_client = chromadb.EphemeralClient()\n",
    "openai_lc_client = Chroma.from_documents(\n",
    "    docs, embeddings, client=new_client, collection_name=\"openai_collection\"\n",
    ")\n",
    "\n",
    "query = \"summary\"\n",
    "docs = openai_lc_client.similarity_search(query)\n",
    "print(docs[0].page_content)"
   ]
  },
  {
   "cell_type": "code",
   "execution_count": 58,
   "metadata": {},
   "outputs": [],
   "source": [
    "# load it into Chroma\n",
    "db = Chroma.from_documents(docs, embeddings)"
   ]
  },
  {
   "cell_type": "code",
   "execution_count": 61,
   "metadata": {},
   "outputs": [
    {
     "name": "stdout",
     "output_type": "stream",
     "text": [
      "62 \n",
      " \n",
      "Written by Marjan Faiz\n"
     ]
    }
   ],
   "source": [
    "# query it\n",
    "query = \"marjan\"\n",
    "docs = db.similarity_search(query)\n",
    "\n",
    "# print results\n",
    "print(docs[2].page_content)"
   ]
  },
  {
   "cell_type": "code",
   "execution_count": 29,
   "metadata": {},
   "outputs": [
    {
     "name": "stderr",
     "output_type": "stream",
     "text": [
      "Number of requested results 4 is greater than number of elements in index 2, updating n_results = 2\n"
     ]
    }
   ],
   "source": [
    "# save to disk\n",
    "db2 = Chroma.from_documents(docs, embeddings, persist_directory=\"./chroma_db_openai\")\n",
    "docs = db2.similarity_search(query)\n"
   ]
  },
  {
   "cell_type": "code",
   "execution_count": 30,
   "metadata": {},
   "outputs": [
    {
     "data": {
      "text/plain": [
       "[Document(page_content='Frenchy De Dubai Progress Report  \\nWebsite  \\n• Home page  (Done)  \\n• Login, signup modals (Done)  \\n• Verification of email while registering.  (In Queue)  \\n• Our story Page (Done)  \\n• Restaurant page  (Done)  \\n• Restaurant internal page  (In Queue)  \\n• Blogs designs (Not confirm from client yet)  \\n• Blogs internal page  (In Queue)  \\n• Reservation date picker  (In Queue)  \\n• Reservation modals  (In Queue)  \\n• Reservation Cancellation  (In Queue)  \\n• Contact us Page  (Done)  \\n• Privacy policy page  (In Queue)  \\n• 404 Page  (In Queue)  \\n \\nAdmin Panel  \\n• Dashboard Analytics (Not yet design ed) \\n• Add Restaurant  (Done)  \\n• List of Restaurants, Edit and Delete  (Done)  \\n• Reviews of Restaurant  (Done)  \\n• Table Reservations  (In Queue)  \\n• Restaurant category  (Done)  \\n• Add Events  (In Queue)  \\n• Listing Events, Edit and Delete  (In Queue)  \\n• Add Blogs  (In Queue)  \\n• Listing Blogs, Edit and Delete  (In Queue)  \\n• Leeds Managements -  Login profiles, Queries and subscribers  (In Queue)  \\n• Logout in side menu  (In Queue)  \\n• Notification (In future)  \\n• Login ( In Queue)  \\nBackend  \\n• Home page  (Done)  \\n• Login, signup modals  (Done)  \\n• Verification of email while registering.   (In Queue)  \\n• Restaurant page  (Done)  \\n• Restaurant internal page  (Done)', metadata={'page': 0, 'source': '/Users/saeedanwar/Desktop/Ai-bot/FrecnhyDe Progress Report.pdf'}),\n",
       " Document(page_content='• Blogs designs (Not confirm from client yet)  \\n• Blogs internal page  (In Queue)  \\n• Reservation date picker  (In Queue)  \\n• Reservation modal s (In Queue)  \\n• Reservation Cancellation  (In Queue)  \\n• Contact us Page (Done)  \\n• Dashboard Analytics (Not yet design ed) \\n• Add Restaurant  (Done)  \\n• List of Restaurants, Edit and Delete  (Done)  \\n• Reviews of Restaurant  (Done)  \\n• Table Reservations  (In Queue)  \\n• Restaurant category  (Done)  \\n• Add Events  (Done)  \\n• Listing Events, Edit and Delete  (Done)  \\n• Add Blogs  (In Queue)  \\n• Listing Blogs, Edit and Delete  (In Queue)  \\n• Blogs Categories  (In Queue)  \\n• Leeds Managements -  Login profiles, Queries and subscribers  (Done)  \\n• Notification (In future)  \\n \\nWebsite Link: https://de -frenchy -fe.vercel.app/  \\nAdmin Panel Link:  https://de -frenchy -admin -panel .vercel.app/auth/signin  \\nLogin Credentials for admin;  \\nEmail:  get.maktek@gmail.com  \\nPassword: 123456', metadata={'page': 1, 'source': '/Users/saeedanwar/Desktop/Ai-bot/FrecnhyDe Progress Report.pdf'})]"
      ]
     },
     "execution_count": 30,
     "metadata": {},
     "output_type": "execute_result"
    }
   ],
   "source": [
    "docs"
   ]
  },
  {
   "cell_type": "code",
   "execution_count": 32,
   "metadata": {},
   "outputs": [],
   "source": [
    "# load from disk\n",
    "db3 = Chroma(persist_directory=\"./chroma_db_openai\", embedding_function=embedding_function)\n"
   ]
  },
  {
   "cell_type": "code",
   "execution_count": 63,
   "metadata": {},
   "outputs": [
    {
     "name": "stderr",
     "output_type": "stream",
     "text": [
      "Number of requested results 4 is greater than number of elements in index 2, updating n_results = 2\n"
     ]
    },
    {
     "name": "stdout",
     "output_type": "stream",
     "text": [
      "Frenchy De Dubai Progress Report  \n",
      "Website  \n",
      "• Home page  (Done)  \n",
      "• Login, signup modals (Done)  \n",
      "• Verification of email while registering.  (In Queue)  \n",
      "• Our story Page (Done)  \n",
      "• Restaurant page  (Done)  \n",
      "• Restaurant internal page  (In Queue)  \n",
      "• Blogs designs (Not confirm from client yet)  \n",
      "• Blogs internal page  (In Queue)  \n",
      "• Reservation date picker  (In Queue)  \n",
      "• Reservation modals  (In Queue)  \n",
      "• Reservation Cancellation  (In Queue)  \n",
      "• Contact us Page  (Done)  \n",
      "• Privacy policy page  (In Queue)  \n",
      "• 404 Page  (In Queue)  \n",
      " \n",
      "Admin Panel  \n",
      "• Dashboard Analytics (Not yet design ed) \n",
      "• Add Restaurant  (Done)  \n",
      "• List of Restaurants, Edit and Delete  (Done)  \n",
      "• Reviews of Restaurant  (Done)  \n",
      "• Table Reservations  (In Queue)  \n",
      "• Restaurant category  (Done)  \n",
      "• Add Events  (In Queue)  \n",
      "• Listing Events, Edit and Delete  (In Queue)  \n",
      "• Add Blogs  (In Queue)  \n",
      "• Listing Blogs, Edit and Delete  (In Queue)  \n",
      "• Leeds Managements -  Login profiles, Queries and subscribers  (In Queue)  \n",
      "• Logout in side menu  (In Queue)  \n",
      "• Notification (In future)  \n",
      "• Login ( In Queue)  \n",
      "Backend  \n",
      "• Home page  (Done)  \n",
      "• Login, signup modals  (Done)  \n",
      "• Verification of email while registering.   (In Queue)  \n",
      "• Restaurant page  (Done)  \n",
      "• Restaurant internal page  (Done)\n"
     ]
    }
   ],
   "source": [
    "docs = db3.similarity_search(query)\n",
    "print(docs[0].page_content)"
   ]
  },
  {
   "cell_type": "code",
   "execution_count": 27,
   "metadata": {},
   "outputs": [
    {
     "data": {
      "text/plain": [
       "langchain_chroma.vectorstores.Chroma"
      ]
     },
     "execution_count": 27,
     "metadata": {},
     "output_type": "execute_result"
    }
   ],
   "source": [
    "type(db3)"
   ]
  },
  {
   "cell_type": "code",
   "execution_count": 28,
   "metadata": {},
   "outputs": [
    {
     "data": {
      "text/plain": [
       "list"
      ]
     },
     "execution_count": 28,
     "metadata": {},
     "output_type": "execute_result"
    }
   ],
   "source": [
    "type(docs)"
   ]
  },
  {
   "cell_type": "code",
   "execution_count": 62,
   "metadata": {},
   "outputs": [
    {
     "data": {
      "text/plain": [
       "'sk-proj-cBhf3xJBL4MOohmLxVC4T3BlbkFJJVjAjendJCbR7DZTb7p2'"
      ]
     },
     "execution_count": 62,
     "metadata": {},
     "output_type": "execute_result"
    }
   ],
   "source": [
    "#import all required libraries \n",
    "from langchain_chroma import Chroma\n",
    "from langchain_community.document_loaders import PyPDFDirectoryLoader\n",
    "from dotenv import load_dotenv\n",
    "#for splitting text into chunk \n",
    "from langchain_text_splitters import CharacterTextSplitter\n",
    "#load openai embeddings because we are not using local embeddings\n",
    "from langchain_openai import OpenAIEmbeddings\n",
    "#get an environment variable \n",
    "import os\n",
    "import chromadb\n",
    "os.getenv(\"OPENAI_API_KEY\")"
   ]
  },
  {
   "cell_type": "code",
   "execution_count": null,
   "metadata": {},
   "outputs": [],
   "source": []
  }
 ],
 "metadata": {
  "kernelspec": {
   "display_name": "venv",
   "language": "python",
   "name": "python3"
  },
  "language_info": {
   "codemirror_mode": {
    "name": "ipython",
    "version": 3
   },
   "file_extension": ".py",
   "mimetype": "text/x-python",
   "name": "python",
   "nbconvert_exporter": "python",
   "pygments_lexer": "ipython3",
   "version": "3.12.3"
  }
 },
 "nbformat": 4,
 "nbformat_minor": 2
}
