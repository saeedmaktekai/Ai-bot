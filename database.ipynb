{
 "cells": [
  {
   "cell_type": "code",
   "execution_count": 5,
   "metadata": {},
   "outputs": [],
   "source": [
    "#import all required libraries \n",
    "from langchain_chroma import Chroma\n",
    "from langchain_community.document_loaders import PyPDFLoader\n",
    "import dotenv\n",
    "#local embedding system from langchain community \n",
    "from langchain_community.embeddings.sentence_transformer import (\n",
    "    SentenceTransformerEmbeddings,\n",
    ")\n",
    "#for splitting text into chunk \n",
    "from langchain_text_splitters import CharacterTextSplitter"
   ]
  },
  {
   "cell_type": "code",
   "execution_count": 6,
   "metadata": {},
   "outputs": [],
   "source": [
    "# load the document and split it into chunks\n",
    "loader = PyPDFLoader(\"/Users/saeedanwar/Desktop/Ai-bot/FrecnhyDe Progress Report.pdf\")\n",
    "documents = loader.load()"
   ]
  },
  {
   "cell_type": "code",
   "execution_count": 7,
   "metadata": {},
   "outputs": [],
   "source": [
    "# split it into chunks\n",
    "text_splitter = CharacterTextSplitter(chunk_size=1000, chunk_overlap=0)\n",
    "docs = text_splitter.split_documents(documents)\n"
   ]
  },
  {
   "cell_type": "code",
   "execution_count": 8,
   "metadata": {},
   "outputs": [],
   "source": [
    "\n",
    "# create the open-source embedding function\n",
    "embedding_function = SentenceTransformerEmbeddings(model_name=\"all-MiniLM-L6-v2\")\n"
   ]
  },
  {
   "cell_type": "code",
   "execution_count": 9,
   "metadata": {},
   "outputs": [],
   "source": [
    "# load it into Chroma\n",
    "db = Chroma.from_documents(docs, embedding_function)\n"
   ]
  },
  {
   "cell_type": "code",
   "execution_count": 10,
   "metadata": {},
   "outputs": [
    {
     "name": "stdout",
     "output_type": "stream",
     "text": [
      "Frenchy De Dubai Progress Report  \n",
      "Website  \n",
      "• Home page  (Done)  \n",
      "• Login, signup modals (Done)  \n",
      "• Verification of email while registering.  (In Queue)  \n",
      "• Our story Page (Done)  \n",
      "• Restaurant page  (Done)  \n",
      "• Restaurant internal page  (In Queue)  \n",
      "• Blogs designs (Not confirm from client yet)  \n",
      "• Blogs internal page  (In Queue)  \n",
      "• Reservation date picker  (In Queue)  \n",
      "• Reservation modals  (In Queue)  \n",
      "• Reservation Cancellation  (In Queue)  \n",
      "• Contact us Page  (Done)  \n",
      "• Privacy policy page  (In Queue)  \n",
      "• 404 Page  (In Queue)  \n",
      " \n",
      "Admin Panel  \n",
      "• Dashboard Analytics (Not yet design ed) \n",
      "• Add Restaurant  (Done)  \n",
      "• List of Restaurants, Edit and Delete  (Done)  \n",
      "• Reviews of Restaurant  (Done)  \n",
      "• Table Reservations  (In Queue)  \n",
      "• Restaurant category  (Done)  \n",
      "• Add Events  (In Queue)  \n",
      "• Listing Events, Edit and Delete  (In Queue)  \n",
      "• Add Blogs  (In Queue)  \n",
      "• Listing Blogs, Edit and Delete  (In Queue)  \n",
      "• Leeds Managements -  Login profiles, Queries and subscribers  (In Queue)  \n",
      "• Logout in side menu  (In Queue)  \n",
      "• Notification (In future)  \n",
      "• Login ( In Queue)  \n",
      "Backend  \n",
      "• Home page  (Done)  \n",
      "• Login, signup modals  (Done)  \n",
      "• Verification of email while registering.   (In Queue)  \n",
      "• Restaurant page  (Done)  \n",
      "• Restaurant internal page  (Done)\n"
     ]
    }
   ],
   "source": [
    "# query it\n",
    "query = \"de frenchy website \"\n",
    "docs = db.similarity_search(query)\n",
    "\n",
    "# print results\n",
    "print(docs[0].page_content)"
   ]
  },
  {
   "cell_type": "code",
   "execution_count": 14,
   "metadata": {},
   "outputs": [],
   "source": [
    "# save to disk\n",
    "db2 = Chroma.from_documents(docs, embedding_function, persist_directory=\"./chroma_db\")\n",
    "docs = db2.similarity_search(query)\n"
   ]
  },
  {
   "cell_type": "code",
   "execution_count": 15,
   "metadata": {},
   "outputs": [
    {
     "data": {
      "text/plain": [
       "[Document(page_content='Frenchy De Dubai Progress Report  \\nWebsite  \\n• Home page  (Done)  \\n• Login, signup modals (Done)  \\n• Verification of email while registering.  (In Queue)  \\n• Our story Page (Done)  \\n• Restaurant page  (Done)  \\n• Restaurant internal page  (In Queue)  \\n• Blogs designs (Not confirm from client yet)  \\n• Blogs internal page  (In Queue)  \\n• Reservation date picker  (In Queue)  \\n• Reservation modals  (In Queue)  \\n• Reservation Cancellation  (In Queue)  \\n• Contact us Page  (Done)  \\n• Privacy policy page  (In Queue)  \\n• 404 Page  (In Queue)  \\n \\nAdmin Panel  \\n• Dashboard Analytics (Not yet design ed) \\n• Add Restaurant  (Done)  \\n• List of Restaurants, Edit and Delete  (Done)  \\n• Reviews of Restaurant  (Done)  \\n• Table Reservations  (In Queue)  \\n• Restaurant category  (Done)  \\n• Add Events  (In Queue)  \\n• Listing Events, Edit and Delete  (In Queue)  \\n• Add Blogs  (In Queue)  \\n• Listing Blogs, Edit and Delete  (In Queue)  \\n• Leeds Managements -  Login profiles, Queries and subscribers  (In Queue)  \\n• Logout in side menu  (In Queue)  \\n• Notification (In future)  \\n• Login ( In Queue)  \\nBackend  \\n• Home page  (Done)  \\n• Login, signup modals  (Done)  \\n• Verification of email while registering.   (In Queue)  \\n• Restaurant page  (Done)  \\n• Restaurant internal page  (Done)', metadata={'page': 0, 'source': '/Users/saeedanwar/Desktop/Ai-bot/FrecnhyDe Progress Report.pdf'}),\n",
       " Document(page_content='Frenchy De Dubai Progress Report  \\nWebsite  \\n• Home page  (Done)  \\n• Login, signup modals (Done)  \\n• Verification of email while registering.  (In Queue)  \\n• Our story Page (Done)  \\n• Restaurant page  (Done)  \\n• Restaurant internal page  (In Queue)  \\n• Blogs designs (Not confirm from client yet)  \\n• Blogs internal page  (In Queue)  \\n• Reservation date picker  (In Queue)  \\n• Reservation modals  (In Queue)  \\n• Reservation Cancellation  (In Queue)  \\n• Contact us Page  (Done)  \\n• Privacy policy page  (In Queue)  \\n• 404 Page  (In Queue)  \\n \\nAdmin Panel  \\n• Dashboard Analytics (Not yet design ed) \\n• Add Restaurant  (Done)  \\n• List of Restaurants, Edit and Delete  (Done)  \\n• Reviews of Restaurant  (Done)  \\n• Table Reservations  (In Queue)  \\n• Restaurant category  (Done)  \\n• Add Events  (In Queue)  \\n• Listing Events, Edit and Delete  (In Queue)  \\n• Add Blogs  (In Queue)  \\n• Listing Blogs, Edit and Delete  (In Queue)  \\n• Leeds Managements -  Login profiles, Queries and subscribers  (In Queue)  \\n• Logout in side menu  (In Queue)  \\n• Notification (In future)  \\n• Login ( In Queue)  \\nBackend  \\n• Home page  (Done)  \\n• Login, signup modals  (Done)  \\n• Verification of email while registering.   (In Queue)  \\n• Restaurant page  (Done)  \\n• Restaurant internal page  (Done)', metadata={'page': 0, 'source': '/Users/saeedanwar/Desktop/Ai-bot/FrecnhyDe Progress Report.pdf'}),\n",
       " Document(page_content='Frenchy De Dubai Progress Report  \\nWebsite  \\n• Home page  (Done)  \\n• Login, signup modals (Done)  \\n• Verification of email while registering.  (In Queue)  \\n• Our story Page (Done)  \\n• Restaurant page  (Done)  \\n• Restaurant internal page  (In Queue)  \\n• Blogs designs (Not confirm from client yet)  \\n• Blogs internal page  (In Queue)  \\n• Reservation date picker  (In Queue)  \\n• Reservation modals  (In Queue)  \\n• Reservation Cancellation  (In Queue)  \\n• Contact us Page  (Done)  \\n• Privacy policy page  (In Queue)  \\n• 404 Page  (In Queue)  \\n \\nAdmin Panel  \\n• Dashboard Analytics (Not yet design ed) \\n• Add Restaurant  (Done)  \\n• List of Restaurants, Edit and Delete  (Done)  \\n• Reviews of Restaurant  (Done)  \\n• Table Reservations  (In Queue)  \\n• Restaurant category  (Done)  \\n• Add Events  (In Queue)  \\n• Listing Events, Edit and Delete  (In Queue)  \\n• Add Blogs  (In Queue)  \\n• Listing Blogs, Edit and Delete  (In Queue)  \\n• Leeds Managements -  Login profiles, Queries and subscribers  (In Queue)  \\n• Logout in side menu  (In Queue)  \\n• Notification (In future)  \\n• Login ( In Queue)  \\nBackend  \\n• Home page  (Done)  \\n• Login, signup modals  (Done)  \\n• Verification of email while registering.   (In Queue)  \\n• Restaurant page  (Done)  \\n• Restaurant internal page  (Done)', metadata={'page': 0, 'source': '/Users/saeedanwar/Desktop/Ai-bot/FrecnhyDe Progress Report.pdf'}),\n",
       " Document(page_content='Frenchy De Dubai Progress Report  \\nWebsite  \\n• Home page  (Done)  \\n• Login, signup modals (Done)  \\n• Verification of email while registering.  (In Queue)  \\n• Our story Page (Done)  \\n• Restaurant page  (Done)  \\n• Restaurant internal page  (In Queue)  \\n• Blogs designs (Not confirm from client yet)  \\n• Blogs internal page  (In Queue)  \\n• Reservation date picker  (In Queue)  \\n• Reservation modals  (In Queue)  \\n• Reservation Cancellation  (In Queue)  \\n• Contact us Page  (Done)  \\n• Privacy policy page  (In Queue)  \\n• 404 Page  (In Queue)  \\n \\nAdmin Panel  \\n• Dashboard Analytics (Not yet design ed) \\n• Add Restaurant  (Done)  \\n• List of Restaurants, Edit and Delete  (Done)  \\n• Reviews of Restaurant  (Done)  \\n• Table Reservations  (In Queue)  \\n• Restaurant category  (Done)  \\n• Add Events  (In Queue)  \\n• Listing Events, Edit and Delete  (In Queue)  \\n• Add Blogs  (In Queue)  \\n• Listing Blogs, Edit and Delete  (In Queue)  \\n• Leeds Managements -  Login profiles, Queries and subscribers  (In Queue)  \\n• Logout in side menu  (In Queue)  \\n• Notification (In future)  \\n• Login ( In Queue)  \\nBackend  \\n• Home page  (Done)  \\n• Login, signup modals  (Done)  \\n• Verification of email while registering.   (In Queue)  \\n• Restaurant page  (Done)  \\n• Restaurant internal page  (Done)', metadata={'page': 0, 'source': '/Users/saeedanwar/Desktop/Ai-bot/FrecnhyDe Progress Report.pdf'})]"
      ]
     },
     "execution_count": 15,
     "metadata": {},
     "output_type": "execute_result"
    }
   ],
   "source": [
    "docs"
   ]
  },
  {
   "cell_type": "code",
   "execution_count": 16,
   "metadata": {},
   "outputs": [],
   "source": [
    "# load from disk\n",
    "db3 = Chroma(persist_directory=\"./chroma_db\", embedding_function=embedding_function)\n"
   ]
  },
  {
   "cell_type": "code",
   "execution_count": 29,
   "metadata": {},
   "outputs": [],
   "source": [
    "docs = db3.similarity_search(query)\n",
    "# print(docs[0].page_content)"
   ]
  },
  {
   "cell_type": "code",
   "execution_count": 27,
   "metadata": {},
   "outputs": [
    {
     "data": {
      "text/plain": [
       "langchain_chroma.vectorstores.Chroma"
      ]
     },
     "execution_count": 27,
     "metadata": {},
     "output_type": "execute_result"
    }
   ],
   "source": [
    "type(db3)"
   ]
  },
  {
   "cell_type": "code",
   "execution_count": 28,
   "metadata": {},
   "outputs": [
    {
     "data": {
      "text/plain": [
       "list"
      ]
     },
     "execution_count": 28,
     "metadata": {},
     "output_type": "execute_result"
    }
   ],
   "source": [
    "type(docs)"
   ]
  },
  {
   "cell_type": "code",
   "execution_count": null,
   "metadata": {},
   "outputs": [],
   "source": []
  },
  {
   "cell_type": "code",
   "execution_count": null,
   "metadata": {},
   "outputs": [],
   "source": []
  }
 ],
 "metadata": {
  "kernelspec": {
   "display_name": "venv",
   "language": "python",
   "name": "python3"
  },
  "language_info": {
   "codemirror_mode": {
    "name": "ipython",
    "version": 3
   },
   "file_extension": ".py",
   "mimetype": "text/x-python",
   "name": "python",
   "nbconvert_exporter": "python",
   "pygments_lexer": "ipython3",
   "version": "3.12.3"
  }
 },
 "nbformat": 4,
 "nbformat_minor": 2
}
